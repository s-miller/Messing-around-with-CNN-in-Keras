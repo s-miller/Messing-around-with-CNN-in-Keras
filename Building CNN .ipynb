{
 "cells": [
  {
   "cell_type": "code",
   "execution_count": 1,
   "metadata": {
    "collapsed": true
   },
   "outputs": [],
   "source": [
    "import tensorflow as tf"
   ]
  },
  {
   "cell_type": "code",
   "execution_count": 2,
   "metadata": {
    "collapsed": true
   },
   "outputs": [],
   "source": [
    "from tensorflow.keras.models import Sequential\n",
    "from tensorflow.keras.layers import Dense, Dropout, Activation, Flatten, Conv2D, MaxPooling2D"
   ]
  },
  {
   "cell_type": "code",
   "execution_count": 3,
   "metadata": {
    "collapsed": true
   },
   "outputs": [],
   "source": [
    "from tensorflow.keras.callbacks import TensorBoard"
   ]
  },
  {
   "cell_type": "code",
   "execution_count": 4,
   "metadata": {
    "collapsed": true
   },
   "outputs": [],
   "source": [
    "import pickle\n",
    "import time"
   ]
  },
  {
   "cell_type": "code",
   "execution_count": 11,
   "metadata": {
    "collapsed": true
   },
   "outputs": [],
   "source": [
    "#NAME = 'Cats-vsdogs-cnn-64x2{}'.format(int(time.time())) # time stamp makes name unique if forget to change name\n",
    "NAME = 'Cats-vsdogs-cnn-64x2-NO-DENSE{}'.format(int(time.time())) "
   ]
  },
  {
   "cell_type": "code",
   "execution_count": 12,
   "metadata": {
    "collapsed": true
   },
   "outputs": [],
   "source": [
    "tensorboard = TensorBoard(log_dir='sgm_logs/{}'.format(NAME))\n",
    "# to see tensorboard, type 'tensorboard --logdir sgm_logs' in dir that holds the logs dir  \n",
    "# type \\w into filter in tensorboard to see all graphs together"
   ]
  },
  {
   "cell_type": "code",
   "execution_count": 7,
   "metadata": {
    "collapsed": true
   },
   "outputs": [],
   "source": [
    "gpu_options = tf.GPUOptions(per_process_gpu_memory_fraction=0.333)\n",
    "sess = tf.Session(config=tf.ConfigProto(gpu_options=gpu_options))"
   ]
  },
  {
   "cell_type": "code",
   "execution_count": 8,
   "metadata": {
    "collapsed": true
   },
   "outputs": [],
   "source": [
    "X = pickle.load(open(\"X.pickle\",'rb'))\n",
    "y = pickle.load(open('y.pickle','rb'))"
   ]
  },
  {
   "cell_type": "code",
   "execution_count": 9,
   "metadata": {
    "collapsed": true
   },
   "outputs": [],
   "source": [
    "X = X/255.0"
   ]
  },
  {
   "cell_type": "code",
   "execution_count": 13,
   "metadata": {
    "collapsed": false
   },
   "outputs": [
    {
     "name": "stdout",
     "output_type": "stream",
     "text": [
      "Train on 22451 samples, validate on 2495 samples\n",
      "Epoch 1/20\n",
      "22451/22451 [==============================] - 97s 4ms/step - loss: 0.6134 - acc: 0.6574 - val_loss: 0.5831 - val_acc: 0.6862\n",
      "Epoch 2/20\n",
      "22451/22451 [==============================] - 96s 4ms/step - loss: 0.5156 - acc: 0.7469 - val_loss: 0.5120 - val_acc: 0.7527\n",
      "Epoch 3/20\n",
      "22451/22451 [==============================] - 104s 5ms/step - loss: 0.4774 - acc: 0.7733 - val_loss: 0.5307 - val_acc: 0.7399\n",
      "Epoch 4/20\n",
      "22451/22451 [==============================] - 102s 5ms/step - loss: 0.4560 - acc: 0.7861 - val_loss: 0.4716 - val_acc: 0.7727\n",
      "Epoch 5/20\n",
      "22451/22451 [==============================] - 98s 4ms/step - loss: 0.4334 - acc: 0.8009 - val_loss: 0.4704 - val_acc: 0.7768\n",
      "Epoch 6/20\n",
      "22451/22451 [==============================] - 98s 4ms/step - loss: 0.4123 - acc: 0.8126 - val_loss: 0.4622 - val_acc: 0.7780\n",
      "Epoch 7/20\n",
      "22451/22451 [==============================] - 94s 4ms/step - loss: 0.3946 - acc: 0.8217 - val_loss: 0.4511 - val_acc: 0.7892\n",
      "Epoch 8/20\n",
      "22451/22451 [==============================] - 103s 5ms/step - loss: 0.3729 - acc: 0.8325 - val_loss: 0.4471 - val_acc: 0.7972\n",
      "Epoch 9/20\n",
      "22451/22451 [==============================] - 101s 5ms/step - loss: 0.3583 - acc: 0.8428 - val_loss: 0.4465 - val_acc: 0.7920\n",
      "Epoch 10/20\n",
      "22451/22451 [==============================] - 93s 4ms/step - loss: 0.3407 - acc: 0.8499 - val_loss: 0.4808 - val_acc: 0.7776\n",
      "Epoch 11/20\n",
      "22451/22451 [==============================] - 94s 4ms/step - loss: 0.3262 - acc: 0.8597 - val_loss: 0.4614 - val_acc: 0.7996\n",
      "Epoch 12/20\n",
      "22451/22451 [==============================] - 103s 5ms/step - loss: 0.3121 - acc: 0.8670 - val_loss: 0.4333 - val_acc: 0.8040\n",
      "Epoch 13/20\n",
      "22451/22451 [==============================] - 104s 5ms/step - loss: 0.3007 - acc: 0.8702 - val_loss: 0.4426 - val_acc: 0.8004\n",
      "Epoch 14/20\n",
      "22451/22451 [==============================] - 103s 5ms/step - loss: 0.2864 - acc: 0.8769 - val_loss: 0.4983 - val_acc: 0.7924\n",
      "Epoch 15/20\n",
      "22451/22451 [==============================] - 104s 5ms/step - loss: 0.2757 - acc: 0.8852 - val_loss: 0.4502 - val_acc: 0.8008\n",
      "Epoch 16/20\n",
      "22451/22451 [==============================] - 94s 4ms/step - loss: 0.2616 - acc: 0.8893 - val_loss: 0.4673 - val_acc: 0.7952\n",
      "Epoch 17/20\n",
      "22451/22451 [==============================] - 97s 4ms/step - loss: 0.2559 - acc: 0.8929 - val_loss: 0.5103 - val_acc: 0.7788\n",
      "Epoch 18/20\n",
      "22451/22451 [==============================] - 100s 4ms/step - loss: 0.2393 - acc: 0.8997 - val_loss: 0.4827 - val_acc: 0.8028\n",
      "Epoch 19/20\n",
      "22451/22451 [==============================] - 103s 5ms/step - loss: 0.2309 - acc: 0.9057 - val_loss: 0.4847 - val_acc: 0.8032\n",
      "Epoch 20/20\n",
      "22451/22451 [==============================] - 103s 5ms/step - loss: 0.2242 - acc: 0.9066 - val_loss: 0.4917 - val_acc: 0.8020\n"
     ]
    },
    {
     "data": {
      "text/plain": [
       "<tensorflow.python.keras.callbacks.History at 0x7f5a64f6d128>"
      ]
     },
     "execution_count": 13,
     "metadata": {},
     "output_type": "execute_result"
    }
   ],
   "source": [
    "model = Sequential()\n",
    "\n",
    "#Conv 1\n",
    "# 64 units, window size is 3 by 3\n",
    "model.add(Conv2D(64, (3,3), input_shape = X.shape[1:])) # Conv accepts 2D dataset\n",
    "model.add(Activation('relu'))\n",
    "model.add(MaxPooling2D(pool_size=(2,2)))\n",
    "\n",
    "# Conv 2\n",
    "model.add(Conv2D(64, (3,3)))\n",
    "model.add(Activation('relu'))\n",
    "model.add(MaxPooling2D(pool_size=(2,2)))\n",
    "\n",
    "\n",
    "model.add(Flatten())# Need to flatten since the final Dense layer wants 1D dataset\n",
    "\n",
    "# Dense layer\n",
    "#model.add(Dense(64))  # Remove dense layer for second attempt\n",
    "#model.add(Activation('relu'))  # Remove dense layer for second attempt\n",
    "\n",
    "#output layer\n",
    "model.add(Dense(1))\n",
    "model.add(Activation('sigmoid'))\n",
    "\n",
    "#(This is not 10 layers)\n",
    "\n",
    "model.compile(loss='binary_crossentropy',\n",
    "             optimizer='adam',\n",
    "             metrics=['accuracy'])\n",
    "\n",
    "model.fit(X, y, batch_size=32, epochs=20, validation_split=0.1, callbacks=[tensorboard] )"
   ]
  },
  {
   "cell_type": "markdown",
   "metadata": {},
   "source": [
    "## This is what Tensorboard looks like showing the network with (orange) and without (blue) the dense layer"
   ]
  },
  {
   "cell_type": "markdown",
   "metadata": {
    "collapsed": true
   },
   "source": [
    "<img src ='tensorboard-screengrab-2nets-compare.png'>"
   ]
  },
  {
   "cell_type": "markdown",
   "metadata": {},
   "source": [
    "The loss on the test set when dense layer is removed is lower than the net with more layers, becoming optimal at ~12 epochs.  It looks like beyond 12 epochs, the network starts overfitting.  "
   ]
  },
  {
   "cell_type": "code",
   "execution_count": null,
   "metadata": {
    "collapsed": true
   },
   "outputs": [],
   "source": []
  }
 ],
 "metadata": {
  "anaconda-cloud": {},
  "kernelspec": {
   "display_name": "Python [default]",
   "language": "python",
   "name": "python3"
  },
  "language_info": {
   "codemirror_mode": {
    "name": "ipython",
    "version": 3
   },
   "file_extension": ".py",
   "mimetype": "text/x-python",
   "name": "python",
   "nbconvert_exporter": "python",
   "pygments_lexer": "ipython3",
   "version": "3.5.5"
  }
 },
 "nbformat": 4,
 "nbformat_minor": 2
}
